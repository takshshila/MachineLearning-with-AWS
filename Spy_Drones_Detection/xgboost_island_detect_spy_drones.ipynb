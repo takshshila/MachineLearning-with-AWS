{
 "cells": [
  {
   "cell_type": "markdown",
   "id": "39cec1d3",
   "metadata": {
    "papermill": {
     "duration": 0.018505,
     "end_time": "2021-06-07T00:09:44.379517",
     "exception": false,
     "start_time": "2021-06-07T00:09:44.361012",
     "status": "completed"
    },
    "tags": []
   },
   "source": [
    "# Introduction: Predicting Island Friendly Cars and Spy Drones with XGBoost\n",
    "_**Using Gradient Boosted Trees to Predict Cars that low impact to the Island's fragile ecosystem**_\n",
    "\n",
    "_**DIY Note:**_ We will be using this same notebook for the DIY portion of the lab by making small changes to the files and referenced frames.\n",
    "\n",
    "\n",
    "\n",
    "---\n",
    "\n",
    "---\n",
    "\n",
    "## Contents\n",
    "\n",
    "1. [Background](#Background)\n",
    "1. [Setup](#Setup)\n",
    "1. [Data](#Data)\n",
    "1. [Train](#Train)\n",
    "1. [Compile](#Compile)\n",
    "1. [Host](#Host)\n",
    "  1. [Evaluate](#Evaluate)\n",
    "  1. [Relative cost of errors](#Relative-cost-of-errors)\n",
    "1. [Extensions](#Extensions)\n",
    "\n",
    "---\n",
    "\n",
    "## Background\n",
    "\n",
    "_This notebook has been adapted from an [AWS blog post](https://aws.amazon.com/blogs/ai/predicting-customer-churn-with-amazon-machine-learning/)_\n",
    "\n",
    "Island ecosystems are fragile and to reduce the impact that some automobiles have we need a way to predict which automobiles are island friendly.  By giving island citizens the ability to input their automobile data we can give them the opportunity to steer away from automobiles that may not be healthy to the environment, cause crowding, and deplete resources. This notebook describes using machine learning (ML) for the automated identification of island friendly vehicles. ML models rarely give perfect predictions though, so this notebook is also about how to incorporate the relative costs of prediction mistakes when determining the financial outcome of using ML.\n",
    "\n",
    "---\n",
    "\n",
    "## Setup\n",
    "\n",
    "_This notebook was created and tested on a `ml.m4.xlarge` notebook instance._\n",
    "\n",
    "Let's start by updating the required packages i.e. SageMaker Python SDK, `pandas` and `numpy`, and specifying:\n",
    "\n",
    "- The S3 bucket and prefix that you want to use for training and model data.  This should be within the same region as the Notebook Instance, training, and hosting.\n",
    "- The IAM role arn used to give training and hosting access to your data. See the documentation for how to create these.  Note, if more than one role is required for notebook instances, training, and/or hosting, please replace the boto regexp with the appropriate full IAM role arn string(s)."
   ]
  },
  {
   "cell_type": "markdown",
   "id": "93bfa4ed",
   "metadata": {},
   "source": [
    "#### Code Cell 1 ####"
   ]
  },
  {
   "cell_type": "code",
   "execution_count": null,
   "id": "777ba29a",
   "metadata": {
    "tags": []
   },
   "outputs": [],
   "source": [
    "import sys\n",
    "!{sys.executable} -m pip install --upgrade pip\n",
    "!{sys.executable} -m pip install sagemaker pandas numpy matplotlib --upgrade\n"
   ]
  },
  {
   "cell_type": "markdown",
   "id": "6f66bec1",
   "metadata": {},
   "source": [
    "#### Code Cell 2 ####"
   ]
  },
  {
   "cell_type": "code",
   "execution_count": null,
   "id": "3f6cce9c",
   "metadata": {
    "isConfigCell": true,
    "papermill": {
     "duration": 1.209916,
     "end_time": "2021-06-07T00:09:45.607159",
     "exception": false,
     "start_time": "2021-06-07T00:09:44.397243",
     "status": "completed"
    },
    "tags": [
     "parameters"
    ]
   },
   "outputs": [],
   "source": [
    "import sagemaker\n",
    "import boto3\n",
    "import re\n",
    "from sagemaker import get_execution_role\n",
    "\n",
    "sess = sagemaker.Session()\n",
    "bucket_prefix = \"spy-drones-lab\"\n",
    "\n",
    "# Define lab bucket\n",
    "s3 = boto3.client('s3')\n",
    "for bucket in s3.list_buckets()['Buckets']:\n",
    "    if bucket_prefix in bucket.get('Name'):\n",
    "        bucket = bucket.get('Name')\n",
    "\n",
    "print(\"default-bucket: \" + bucket)\n",
    "prefix = \"lab/xgboost-island-friendly\"\n",
    "\n",
    "# Define IAM role\n",
    "role = get_execution_role()\n",
    "print(\"Default IAM role: \" + role)"
   ]
  },
  {
   "cell_type": "markdown",
   "id": "f5dffe74",
   "metadata": {
    "papermill": {
     "duration": 0.017739,
     "end_time": "2021-06-07T00:09:45.683322",
     "exception": false,
     "start_time": "2021-06-07T00:09:45.665583",
     "status": "completed"
    },
    "tags": []
   },
   "source": [
    "Next, we'll import the Python libraries we'll need for the remainder of the exercise."
   ]
  },
  {
   "cell_type": "markdown",
   "id": "b30035f6",
   "metadata": {},
   "source": [
    "#### Code Cell 3 ####"
   ]
  },
  {
   "cell_type": "code",
   "execution_count": null,
   "id": "ffee9b30",
   "metadata": {
    "papermill": {
     "duration": 0.666347,
     "end_time": "2021-06-07T00:09:46.367361",
     "exception": false,
     "start_time": "2021-06-07T00:09:45.701014",
     "status": "completed"
    },
    "tags": []
   },
   "outputs": [],
   "source": [
    "import pandas as pd\n",
    "import numpy as np\n",
    "import matplotlib.pyplot as plt\n",
    "import io\n",
    "import os\n",
    "import sys\n",
    "import time\n",
    "import json\n",
    "from IPython.display import display\n",
    "from time import strftime, gmtime\n",
    "from sagemaker.inputs import TrainingInput\n",
    "from sagemaker.serializers import CSVSerializer"
   ]
  },
  {
   "cell_type": "markdown",
   "id": "aaa9af5d",
   "metadata": {
    "papermill": {
     "duration": 0.021555,
     "end_time": "2021-06-07T00:09:46.406743",
     "exception": false,
     "start_time": "2021-06-07T00:09:46.385188",
     "status": "completed"
    },
    "tags": []
   },
   "source": [
    "---\n",
    "## Data\n",
    "\n",
    "The data for this model comes from [University of California Irvine](https://archive.ics.uci.edu/ml/datasets/automobile/) Machine Learning Repository and originally used for the purposes of assigning insurance risk scores to vehicles.  We have modified the data set slightly for our purposes.  We can use this historical information to construct an ML model to predict island friendly vehicles using a process called training. After training the model, we can pass the profile information of an arbitrary car (the same profile information that we used to train the model) to the model, and have the model predict whether this vehicle is island friendly or not.  Of course, we expect the model to make mistakes–after all, predicting the future is tricky business! But I’ll also show how to deal with prediction errors.\n",
    "\n",
    "Let's download and read that dataset in now:\n",
    "\n",
    "**DIY Note:** Comment out the line for download of IslandAutos.csv and uncomment the line for DroneFlights.csv "
   ]
  },
  {
   "cell_type": "markdown",
   "id": "2d1e96c3",
   "metadata": {},
   "source": [
    "#### Code Cell 4 ####"
   ]
  },
  {
   "cell_type": "code",
   "execution_count": null,
   "id": "81fd7457",
   "metadata": {
    "papermill": {
     "duration": 1.671215,
     "end_time": "2021-06-07T00:09:48.098151",
     "exception": false,
     "start_time": "2021-06-07T00:09:46.426936",
     "status": "completed"
    },
    "tags": []
   },
   "outputs": [],
   "source": [
    "## For DIY section comment out the below line\n",
    "!aws s3 cp s3://{bucket}/IslandAutos.csv ./\n",
    "    \n",
    "## For DIY section uncomment the below line\n",
    "#!aws s3 cp s3://{bucket}/DroneFlights.csv ./\n",
    "    "
   ]
  },
  {
   "cell_type": "markdown",
   "id": "43677190",
   "metadata": {
    "execution": {
     "iopub.execute_input": "2021-06-07T00:09:48.138972Z",
     "iopub.status.busy": "2021-06-07T00:09:48.138536Z",
     "iopub.status.idle": "2021-06-07T00:09:48.185805Z",
     "shell.execute_reply": "2021-06-07T00:09:48.185364Z"
    },
    "papermill": {
     "duration": 0.06925,
     "end_time": "2021-06-07T00:09:48.185909",
     "exception": false,
     "start_time": "2021-06-07T00:09:48.116659",
     "status": "completed"
    },
    "tags": []
   },
   "source": [
    "### Working with missing data\n",
    "\n",
    "The data scientist that provided the data did some clean-up and any previously empty or erroneous values have been populated with a question mark (?).  We will import the data using the na_values parameter that references a list of known missing values.  \n",
    "\n",
    "As you work through the data and see other types of missing values, you can add them to the list below:\n",
    "\n",
    "**DIY Note:** In the below code cell change `IslandAutos.csv` file to `DroneFlights.csv` "
   ]
  },
  {
   "cell_type": "markdown",
   "id": "b97269c4",
   "metadata": {},
   "source": [
    "#### Code Cell 5 ####"
   ]
  },
  {
   "cell_type": "code",
   "execution_count": null,
   "id": "bb40e290",
   "metadata": {
    "papermill": {
     "duration": 0.06925,
     "end_time": "2021-06-07T00:09:48.185909",
     "exception": false,
     "start_time": "2021-06-07T00:09:48.116659",
     "status": "completed"
    },
    "tags": []
   },
   "outputs": [],
   "source": [
    "# Make a list of missing value types\n",
    "missing_values = [\"?\"]\n",
    "\n",
    "ml_data = pd.read_csv(\"./IslandAutos.csv\", na_values = missing_values)\n",
    "pd.set_option(\"display.max_columns\", 500)\n",
    "\n",
    "#display a summary view\n",
    "ml_data"
   ]
  },
  {
   "cell_type": "markdown",
   "id": "88b6190b",
   "metadata": {},
   "source": [
    "### Dealing with missing data\n",
    "\n",
    "The imported data frame above has 205 rows. The below code creates a new dataframe and prints out all rows with a least one attribute marked as __NaN__.  As you can see only a few rows have empty values.\n",
    "\n",
    "**DIY Note:** Some of the earlier drone models (those with id less then 100) had bad transponders that malfunctioned with speeds exceeding safety standards.  We will clean those up in the next few steps/"
   ]
  },
  {
   "cell_type": "markdown",
   "id": "79cab657",
   "metadata": {},
   "source": [
    "#### Code Cell 6 ####"
   ]
  },
  {
   "cell_type": "code",
   "execution_count": null,
   "id": "b7630764",
   "metadata": {
    "tags": []
   },
   "outputs": [],
   "source": [
    "#New Data Frame that displays all rows with at least one attribute marked NaN\n",
    "missing_df = ml_data[ml_data.isna().any(axis=1)]\n",
    "missing_df\n"
   ]
  },
  {
   "cell_type": "markdown",
   "id": "696c286c",
   "metadata": {},
   "source": [
    "#### Code Cell 7 ####"
   ]
  },
  {
   "cell_type": "code",
   "execution_count": null,
   "id": "294e83c8",
   "metadata": {
    "tags": []
   },
   "outputs": [],
   "source": [
    "## Fill the missing data and or delete bad data.\n",
    "## The next three lines need to be commnented out for the DIY portion of the lab.  \n",
    "\n",
    "mean = ml_data['price'].mean()                         #Comment out this line for DIY portion of lab\n",
    "print(\"The mean vehicle price is: \" + str(mean))       #Comment out this line for DIY portion of lab\n",
    "ml_data['price'].fillna(mean)                          #Comment out this line for DIY portion of lab\n",
    "\n",
    "#Drop any rows which still have missing values\n",
    "ml_data.dropna(axis=0, how='any',inplace=True)\n",
    "\n",
    "#Summary view - Notice the # of data values was reduced after dropping data.\n",
    "ml_data\n"
   ]
  },
  {
   "cell_type": "markdown",
   "id": "ca5d60d0",
   "metadata": {
    "papermill": {
     "duration": 0.019033,
     "end_time": "2021-06-07T00:09:48.224277",
     "exception": false,
     "start_time": "2021-06-07T00:09:48.205244",
     "status": "completed"
    },
    "tags": []
   },
   "source": [
    "### Data Features ###\n",
    "\n",
    "Now that we have done a first pass at cleaning up the data lets review more details about it.  \n",
    "\n",
    "By modern standards, it’s a relatively small dataset, with less than 200 records, where each record has 16 attributes to describe the profile of a vehicle. The attributes are:\n",
    "\n",
    "- `make`: The automobile manufacturer; for example, audi or dodge.\n",
    "- `fuel-type`: Diesel or Gas.\n",
    "- `aspiration`: turbo vs standard.\n",
    "- `num-of-doors`: Number of doors (Two or Four).\n",
    "- `body-style`: wagon, sedan, hatchback, etc. \n",
    "- `drive-wheels`: front wheel drive (fwd), four wheel drive (4wd) or rear-wheel drive (rwd)\n",
    "- `engine-location`: Front or Back.\n",
    "- `curb-weight`: continuous from 1488 to 4066\n",
    "- `engine-type`: dohc, dohcv, l, ohc, ohcf, ohcv, rotor.\n",
    "- `num-of-cylinders`: eight, five, four, six, three, twelve, two.\n",
    "- `horsepower`: continuous from 48 to 288.\n",
    "- `peak-rpm`: continuous from 4150 to 6600.\n",
    "- `city-mpg`: continuous from 13 to 49.\n",
    "- `highway-mpg`: continuous from 16 to 54.\n",
    "- `price`: continuous from 5118 to 45400.\n",
    "- `island-friendly?`: 0 = no; 1 = yes.\n",
    "\n",
    "\n",
    "The last attribute, `island-friendly?`, is known as the target attribute–the attribute that we want the ML model to predict.  Because the target attribute is binary, our model will be performing binary prediction, also known as binary classification.\n",
    "\n",
    "Let's begin exploring the data:\n",
    "\n",
    "\n",
    "**DIY Note:** The target attribute for the DroneFLights data set is `spy?` \n",
    "\n",
    "Other fields in the DroneFlights data set are:\n",
    "- `drone-id`: Randomly generated id for drones.  Older drones have lower id numbers.\n",
    "- `flight-duration`: Friendly drones normally do not fly for more than 20 minutes. \n",
    "- `transponder`: On (1) or Off (0); Older spy drones did not have transponders; but newere ones can fake a transponder signal.\n",
    "- `max-altitide`: Spy drones fly at higher altitudes. \n",
    "- `max-speed`: Spy drones display significantly higher speeds since when spotted they need to make a quick escape.\n"
   ]
  },
  {
   "cell_type": "markdown",
   "id": "6f58a875",
   "metadata": {},
   "source": [
    "#### Code Cell 8 ####"
   ]
  },
  {
   "cell_type": "code",
   "execution_count": null,
   "id": "883c64d9",
   "metadata": {
    "papermill": {
     "duration": 2.396119,
     "end_time": "2021-06-07T00:09:50.639536",
     "exception": false,
     "start_time": "2021-06-07T00:09:48.243417",
     "status": "completed"
    },
    "tags": []
   },
   "outputs": [],
   "source": [
    "for column in ml_data.select_dtypes(include=[\"object\"]).columns:\n",
    "    display(pd.crosstab(index=ml_data[column], columns=\"% observations\", normalize=\"columns\"))\n",
    "\n",
    "# Histograms for each numeric features\n",
    "display(ml_data.describe())\n",
    "%matplotlib inline\n",
    "hist = ml_data.hist(bins=30, sharey=True, figsize=(10, 10))"
   ]
  },
  {
   "cell_type": "markdown",
   "id": "924b4193",
   "metadata": {
    "papermill": {
     "duration": 0.022357,
     "end_time": "2021-06-07T00:09:50.685414",
     "exception": false,
     "start_time": "2021-06-07T00:09:50.663057",
     "status": "completed"
    },
    "tags": []
   },
   "source": [
    "We can see immediately that:\n",
    "- `city-mpg` is quite quite evenly distributed\n",
    "- `highway-mpg` statistics are very similar to city-mpg.  So we will drop highway-mpg as it seems redundant.\n",
    "- Most of the numeric features are surprisingly nicely distributed, with many showing bell-like `gaussianity`.  `peak-rpm` being a notable exception, so we will drop that feature from the data as well.\n",
    "\n",
    "\n",
    "**DIY Note:** We can see that `drone-id` is evenly distributed and there is no correlation between it and a drone being friendly or a spy.  So we will drop that feature from our data set."
   ]
  },
  {
   "cell_type": "markdown",
   "id": "a27ca692",
   "metadata": {},
   "source": [
    "#### Code Cell 9 ####"
   ]
  },
  {
   "cell_type": "code",
   "execution_count": null,
   "id": "96de1dd1",
   "metadata": {
    "papermill": {
     "duration": 0.030406,
     "end_time": "2021-06-07T00:09:50.738287",
     "exception": false,
     "start_time": "2021-06-07T00:09:50.707881",
     "status": "completed"
    },
    "tags": []
   },
   "outputs": [],
   "source": [
    "# DIY Note:  You can skip running of the next two lines by commenting them out. \n",
    "\n",
    "ml_data = ml_data.drop(\"highway-mpg\", axis=1)\n",
    "ml_data = ml_data.drop(\"peak-rpm\", axis=1)"
   ]
  },
  {
   "cell_type": "code",
   "execution_count": null,
   "id": "85588404",
   "metadata": {
    "tags": []
   },
   "outputs": [],
   "source": [
    "# DIY Note:  Uncomment the next line to drop the feature `drone-id` from the data set. \n",
    "#ml_data = ml_data.drop(\"drone-id\", axis=1)"
   ]
  },
  {
   "cell_type": "markdown",
   "id": "f781b7e5",
   "metadata": {
    "papermill": {
     "duration": 0.022422,
     "end_time": "2021-06-07T00:09:50.783342",
     "exception": false,
     "start_time": "2021-06-07T00:09:50.760920",
     "status": "completed"
    },
    "tags": []
   },
   "source": [
    "Next let's look at the relationship between each of the features and our target variable.\n",
    "\n",
    "**DIY Note:** In the below code cells carefully review and replace reference `island-friendly?` with `spy?`"
   ]
  },
  {
   "cell_type": "markdown",
   "id": "242a6d2d",
   "metadata": {},
   "source": [
    "#### Code Cell 10 ####"
   ]
  },
  {
   "cell_type": "code",
   "execution_count": null,
   "id": "fa50682c",
   "metadata": {
    "papermill": {
     "duration": 4.645229,
     "end_time": "2021-06-07T00:09:55.451149",
     "exception": false,
     "start_time": "2021-06-07T00:09:50.805920",
     "status": "completed"
    },
    "tags": []
   },
   "outputs": [],
   "source": [
    "for column in ml_data.select_dtypes(include=[\"object\"]).columns:\n",
    "    if column != \"island-friendly?\":\n",
    "        display(pd.crosstab(index=ml_data[column], columns=ml_data[\"island-friendly?\"], normalize=\"columns\"))\n",
    "\n",
    "for column in ml_data.select_dtypes(exclude=[\"object\"]).columns:\n",
    "    if column != \"island-friendly?\":\n",
    "        print(column)\n",
    "        hist = ml_data[[column, \"island-friendly?\"]].hist(by=\"island-friendly?\", bins=30)\n",
    "        plt.show()"
   ]
  },
  {
   "cell_type": "markdown",
   "id": "fe1fa69a",
   "metadata": {},
   "source": [
    "#### Code Cell 11 ####"
   ]
  },
  {
   "cell_type": "code",
   "execution_count": null,
   "id": "6507a4c8",
   "metadata": {
    "papermill": {
     "duration": 18.552066,
     "end_time": "2021-06-07T00:10:14.041717",
     "exception": false,
     "start_time": "2021-06-07T00:09:55.489651",
     "status": "completed"
    },
    "tags": []
   },
   "outputs": [],
   "source": [
    "display(ml_data.corr(numeric_only=True))\n",
    "pd.plotting.scatter_matrix(ml_data, figsize=(14, 14))\n",
    "plt.show()"
   ]
  },
  {
   "cell_type": "markdown",
   "id": "5c6a1b1d",
   "metadata": {},
   "source": [
    "#### Code Cell 12 ####"
   ]
  },
  {
   "cell_type": "code",
   "execution_count": null,
   "id": "9b158821",
   "metadata": {
    "papermill": {
     "duration": 0.057009,
     "end_time": "2021-06-07T00:10:14.251061",
     "exception": false,
     "start_time": "2021-06-07T00:10:14.194052",
     "status": "completed"
    },
    "tags": []
   },
   "outputs": [],
   "source": [
    "# Final dimensions of the dataset\n",
    "ml_data.shape"
   ]
  },
  {
   "cell_type": "markdown",
   "id": "7324ed71",
   "metadata": {
    "papermill": {
     "duration": 0.050512,
     "end_time": "2021-06-07T00:10:14.352000",
     "exception": false,
     "start_time": "2021-06-07T00:10:14.301488",
     "status": "completed"
    },
    "tags": []
   },
   "source": [
    "Now that we've cleaned up our dataset, let's determine which algorithm to use.  As mentioned above, there appears to be some variables where both high and low (but not intermediate) values are predictive of non island-friendly vehicles. In order to accommodate this in an algorithm like linear regression, we'd need to generate polynomial (or bucketed) terms.  Instead, let's attempt to model this problem using gradient boosted trees.  Amazon SageMaker provides an XGBoost container that we can use to train in a managed, distributed setting, and then host as a real-time prediction endpoint.  XGBoost uses gradient boosted trees which naturally account for non-linear relationships between features and the target variable, as well as accommodating complex interactions between features.\n",
    "\n",
    "Amazon SageMaker XGBoost can train on data in either a CSV or LibSVM format.  For this example, we'll stick with CSV.  It should:\n",
    "- Have the predictor variable in the first column\n",
    "- Not have a header row\n",
    "\n",
    "But first, let's convert our categorical features into numeric features."
   ]
  },
  {
   "cell_type": "markdown",
   "id": "edfb6154",
   "metadata": {},
   "source": [
    "#### Code Cell 13 ####"
   ]
  },
  {
   "cell_type": "code",
   "execution_count": null,
   "id": "69f9ea0b",
   "metadata": {
    "papermill": {
     "duration": 0.07096,
     "end_time": "2021-06-07T00:10:14.473383",
     "exception": false,
     "start_time": "2021-06-07T00:10:14.402423",
     "status": "completed"
    },
    "tags": []
   },
   "outputs": [],
   "source": [
    "model_data = pd.get_dummies(ml_data,dtype=float)\n",
    "\n",
    "model_data"
   ]
  },
  {
   "cell_type": "markdown",
   "id": "99880bf5",
   "metadata": {
    "papermill": {
     "duration": 0.050777,
     "end_time": "2021-06-07T00:10:14.574494",
     "exception": false,
     "start_time": "2021-06-07T00:10:14.523717",
     "status": "completed"
    },
    "tags": []
   },
   "source": [
    "And now let's split the data into training, validation, and test sets.  This will help prevent us from over-fitting the model, and allow us to test the model's accuracy on data it hasn't already seen."
   ]
  },
  {
   "cell_type": "markdown",
   "id": "af3b2185",
   "metadata": {},
   "source": [
    "#### Code Cell 14 ####"
   ]
  },
  {
   "cell_type": "code",
   "execution_count": null,
   "id": "4db88a86",
   "metadata": {
    "papermill": {
     "duration": 0.246303,
     "end_time": "2021-06-07T00:10:14.871668",
     "exception": false,
     "start_time": "2021-06-07T00:10:14.625365",
     "status": "completed"
    },
    "tags": []
   },
   "outputs": [],
   "source": [
    "train_data, validation_data, test_data = np.split(\n",
    "    model_data.sample(frac=1, random_state=1729),\n",
    "    [int(0.7 * len(model_data)), int(0.9 * len(model_data))],\n",
    ")\n",
    "train_data.to_csv(\"train.csv\", header=False, index=False)\n",
    "validation_data.to_csv(\"validation.csv\", header=False, index=False)"
   ]
  },
  {
   "cell_type": "markdown",
   "id": "c8a822a9",
   "metadata": {
    "papermill": {
     "duration": 0.050591,
     "end_time": "2021-06-07T00:10:14.972677",
     "exception": false,
     "start_time": "2021-06-07T00:10:14.922086",
     "status": "completed"
    },
    "tags": []
   },
   "source": [
    "Now we'll upload these files to S3."
   ]
  },
  {
   "cell_type": "markdown",
   "id": "5a35eaa3",
   "metadata": {},
   "source": [
    "#### Code Cell 15 ####"
   ]
  },
  {
   "cell_type": "code",
   "execution_count": null,
   "id": "9f7ce055",
   "metadata": {
    "papermill": {
     "duration": 0.79455,
     "end_time": "2021-06-07T00:10:15.817950",
     "exception": false,
     "start_time": "2021-06-07T00:10:15.023400",
     "status": "completed"
    },
    "tags": []
   },
   "outputs": [],
   "source": [
    "boto3.Session().resource(\"s3\").Bucket(bucket).Object(\n",
    "    os.path.join(prefix, \"train/train.csv\")\n",
    ").upload_file(\"train.csv\")\n",
    "boto3.Session().resource(\"s3\").Bucket(bucket).Object(\n",
    "    os.path.join(prefix, \"validation/validation.csv\")\n",
    ").upload_file(\"validation.csv\")"
   ]
  },
  {
   "cell_type": "markdown",
   "id": "6e9d2821",
   "metadata": {
    "papermill": {
     "duration": 0.050157,
     "end_time": "2021-06-07T00:10:15.918579",
     "exception": false,
     "start_time": "2021-06-07T00:10:15.868422",
     "status": "completed"
    },
    "tags": []
   },
   "source": [
    "---\n",
    "## Train\n",
    "\n",
    "Moving onto training, first we'll need to specify the locations of the XGBoost algorithm containers."
   ]
  },
  {
   "cell_type": "markdown",
   "id": "c8bc4ce8",
   "metadata": {},
   "source": [
    "#### Code Cell 16 ####"
   ]
  },
  {
   "cell_type": "code",
   "execution_count": null,
   "id": "1f54b036",
   "metadata": {
    "papermill": {
     "duration": 0.071985,
     "end_time": "2021-06-07T00:10:16.040629",
     "exception": false,
     "start_time": "2021-06-07T00:10:15.968644",
     "status": "completed"
    },
    "tags": []
   },
   "outputs": [],
   "source": [
    "container = sagemaker.image_uris.retrieve(\"xgboost\", boto3.Session().region_name, \"latest\")\n",
    "display(container)"
   ]
  },
  {
   "cell_type": "markdown",
   "id": "407ff41e",
   "metadata": {
    "papermill": {
     "duration": 0.050814,
     "end_time": "2021-06-07T00:10:16.142405",
     "exception": false,
     "start_time": "2021-06-07T00:10:16.091591",
     "status": "completed"
    },
    "tags": []
   },
   "source": [
    "Then, because we're training with the CSV file format, we'll create `TrainingInput`s that our training function can use as a pointer to the files in S3."
   ]
  },
  {
   "cell_type": "markdown",
   "id": "807ec330",
   "metadata": {},
   "source": [
    "#### Code Cell 17 ####"
   ]
  },
  {
   "cell_type": "code",
   "execution_count": null,
   "id": "92700e21",
   "metadata": {
    "papermill": {
     "duration": 0.05658,
     "end_time": "2021-06-07T00:10:16.249848",
     "exception": false,
     "start_time": "2021-06-07T00:10:16.193268",
     "status": "completed"
    },
    "tags": []
   },
   "outputs": [],
   "source": [
    "s3_input_train = TrainingInput(\n",
    "    s3_data=\"s3://{}/{}/train\".format(bucket, prefix), content_type=\"csv\"\n",
    ")\n",
    "s3_input_validation = TrainingInput(\n",
    "    s3_data=\"s3://{}/{}/validation/\".format(bucket, prefix), content_type=\"csv\"\n",
    ")"
   ]
  },
  {
   "cell_type": "markdown",
   "id": "2ea91441",
   "metadata": {
    "papermill": {
     "duration": 0.050343,
     "end_time": "2021-06-07T00:10:16.350919",
     "exception": false,
     "start_time": "2021-06-07T00:10:16.300576",
     "status": "completed"
    },
    "tags": []
   },
   "source": [
    "Now, we can specify a few parameters like what type of training instances we'd like to use and how many, as well as our XGBoost hyperparameters.  A few key hyperparameters are:\n",
    "- `max_depth` controls how deep each tree within the algorithm can be built.  Deeper trees can lead to better fit, but are more computationally expensive and can lead to overfitting.  There is typically some trade-off in model performance that needs to be explored between numerous shallow trees and a smaller number of deeper trees.\n",
    "- `subsample` controls sampling of the training data.  This technique can help reduce overfitting, but setting it too low can also starve the model of data.\n",
    "- `num_round` controls the number of boosting rounds.  This is essentially the subsequent models that are trained using the residuals of previous iterations.  Again, more rounds should produce a better fit on the training data, but can be computationally expensive or lead to over-fitting.\n",
    "- `eta` controls how aggressive each round of boosting is.  Larger values lead to more conservative boosting.\n",
    "- `gamma` controls how aggressively trees are grown.  Larger values lead to more conservative models.\n",
    "\n",
    "More detail on XGBoost's hyper-parameters can be found on their GitHub [page](https://github.com/dmlc/xgboost/blob/master/doc/parameter.md)."
   ]
  },
  {
   "cell_type": "markdown",
   "id": "7e118ea3",
   "metadata": {},
   "source": [
    "#### Code Cell 18 ####"
   ]
  },
  {
   "cell_type": "code",
   "execution_count": null,
   "id": "91b00e1e",
   "metadata": {
    "papermill": {
     "duration": 252.035305,
     "end_time": "2021-06-07T00:14:28.436818",
     "exception": false,
     "start_time": "2021-06-07T00:10:16.401513",
     "status": "completed"
    },
    "tags": []
   },
   "outputs": [],
   "source": [
    "sess = sagemaker.Session()\n",
    "\n",
    "xgb = sagemaker.estimator.Estimator(\n",
    "    container,\n",
    "    role,\n",
    "    instance_count=1,\n",
    "    instance_type=\"ml.m4.xlarge\",\n",
    "    output_path=\"s3://{}/{}/output\".format(bucket, prefix),\n",
    "    sagemaker_session=sess,\n",
    ")\n",
    "xgb.set_hyperparameters(\n",
    "    max_depth=5,\n",
    "    eta=0.2,\n",
    "    gamma=4,\n",
    "    min_child_weight=6,\n",
    "    subsample=0.8,\n",
    "    silent=0,\n",
    "    objective=\"binary:logistic\",\n",
    "    num_round=100,\n",
    ")\n",
    "\n",
    "xgb.fit({\"train\": s3_input_train, \"validation\": s3_input_validation})"
   ]
  },
  {
   "cell_type": "markdown",
   "id": "ef0a7e17",
   "metadata": {
    "papermill": {
     "duration": null,
     "end_time": null,
     "exception": null,
     "start_time": null,
     "status": "pending"
    },
    "tags": []
   },
   "source": [
    "---\n",
    "## Host\n",
    "\n",
    "Now that we've trained the algorithm, let's create a model and deploy it to a hosted endpoint."
   ]
  },
  {
   "cell_type": "markdown",
   "id": "d4cad0ce",
   "metadata": {},
   "source": [
    "#### Code Cell 19 ####"
   ]
  },
  {
   "cell_type": "code",
   "execution_count": null,
   "id": "1b3eb715",
   "metadata": {
    "papermill": {
     "duration": null,
     "end_time": null,
     "exception": null,
     "start_time": null,
     "status": "pending"
    },
    "tags": []
   },
   "outputs": [],
   "source": [
    "xgb_predictor = xgb.deploy(\n",
    "    initial_instance_count=1, instance_type=\"ml.m4.xlarge\", serializer=CSVSerializer()\n",
    ")"
   ]
  },
  {
   "cell_type": "markdown",
   "id": "460fada9",
   "metadata": {
    "papermill": {
     "duration": null,
     "end_time": null,
     "exception": null,
     "start_time": null,
     "status": "pending"
    },
    "tags": []
   },
   "source": [
    "### Evaluate\n",
    "\n",
    "Now that we have a hosted endpoint running, we can make real-time predictions from our model very easily, simply by making a `http` POST request.  But first, we'll need to set up serializers and deserializers for passing our `test_data` NumPy arrays to the model behind the endpoint."
   ]
  },
  {
   "cell_type": "markdown",
   "id": "fac0f32a",
   "metadata": {
    "papermill": {
     "duration": null,
     "end_time": null,
     "exception": null,
     "start_time": null,
     "status": "pending"
    },
    "tags": []
   },
   "source": [
    "Now, we'll use a simple function to:\n",
    "1. Loop over our test dataset\n",
    "1. Split it into mini-batches of rows \n",
    "1. Convert those mini-batchs to CSV string payloads\n",
    "1. Retrieve mini-batch predictions by invoking the XGBoost endpoint\n",
    "1. Collect predictions and convert from the CSV output our model provides into a NumPy array"
   ]
  },
  {
   "cell_type": "markdown",
   "id": "cadfbf79",
   "metadata": {},
   "source": [
    "#### Code Cell 20 ####"
   ]
  },
  {
   "cell_type": "code",
   "execution_count": null,
   "id": "7fe94161",
   "metadata": {
    "papermill": {
     "duration": null,
     "end_time": null,
     "exception": null,
     "start_time": null,
     "status": "pending"
    },
    "tags": []
   },
   "outputs": [],
   "source": [
    "def predict(data, rows=50):\n",
    "    split_array = np.array_split(data, int(data.shape[0] / float(rows) + 1))\n",
    "    predictions = \"\"\n",
    "    for array in split_array:\n",
    "        predictions = \",\".join([predictions, xgb_predictor.predict(array).decode(\"utf-8\")])\n",
    "\n",
    "    return np.fromstring(predictions[1:], sep=\",\")\n",
    "\n",
    "\n",
    "predictions = predict(test_data.to_numpy()[:, 1:])"
   ]
  },
  {
   "cell_type": "markdown",
   "id": "838cf016",
   "metadata": {},
   "source": [
    "#### Code Cell 21 ####"
   ]
  },
  {
   "cell_type": "code",
   "execution_count": null,
   "id": "666469e3",
   "metadata": {
    "tags": []
   },
   "outputs": [],
   "source": [
    "print(test_data)\n",
    "print(predictions)"
   ]
  },
  {
   "cell_type": "markdown",
   "id": "1ddcbf5f",
   "metadata": {
    "papermill": {
     "duration": null,
     "end_time": null,
     "exception": null,
     "start_time": null,
     "status": "pending"
    },
    "tags": []
   },
   "source": [
    "There are many ways to compare the performance of a machine learning model, but let's start by simply by comparing actual to predicted values.  In this case, we're simply predicting whether the vehicle is island friendly (`1`) or not (`0`), which produces a simple confusion matrix."
   ]
  },
  {
   "cell_type": "markdown",
   "id": "c9434b22",
   "metadata": {},
   "source": [
    "#### Code Cell 22 ####"
   ]
  },
  {
   "cell_type": "code",
   "execution_count": null,
   "id": "82ce3601",
   "metadata": {
    "papermill": {
     "duration": null,
     "end_time": null,
     "exception": null,
     "start_time": null,
     "status": "pending"
    },
    "tags": []
   },
   "outputs": [],
   "source": [
    "pd.crosstab(\n",
    "    index=test_data.iloc[:, 0],\n",
    "    columns=np.round(predictions),\n",
    "    rownames=[\"actual\"],\n",
    "    colnames=[\"predictions\"],\n",
    ")"
   ]
  },
  {
   "cell_type": "markdown",
   "id": "282b49a0",
   "metadata": {
    "papermill": {
     "duration": null,
     "end_time": null,
     "exception": null,
     "start_time": null,
     "status": "pending"
    },
    "tags": []
   },
   "source": [
    "_Note, due to randomized elements of the algorithm, your results may differ slightly._\n",
    "\n",
    "Of the 20 vehicles, we've correctly predicted 19 of them (true positives). And, we incorrectly predicted 1 vehicle to be island-friendly but ended up not being so which is known as a false positive.  There are no false negatives in our testing.  \n",
    "\n",
    "An important point here is that because of the `np.round()` function above we are using a simple threshold (or cutoff) of 0.5.  Our predictions from `xgboost` come out as continuous values between 0 and 1, and we force them into the binary classes that we began with.  \n",
    "To get a rough intuition here, let's look at the continuous values of our predictions."
   ]
  },
  {
   "cell_type": "markdown",
   "id": "672588d2",
   "metadata": {},
   "source": [
    "#### Code Cell 23 ####"
   ]
  },
  {
   "cell_type": "code",
   "execution_count": null,
   "id": "8a615a82",
   "metadata": {
    "papermill": {
     "duration": null,
     "end_time": null,
     "exception": null,
     "start_time": null,
     "status": "pending"
    },
    "tags": []
   },
   "outputs": [],
   "source": [
    "plt.hist(predictions)\n",
    "plt.show()"
   ]
  },
  {
   "cell_type": "code",
   "execution_count": null,
   "id": "bbfc0d09-e381-407e-8d51-6cf1afa507b3",
   "metadata": {},
   "outputs": [],
   "source": []
  }
 ],
 "metadata": {
  "availableInstances": [
   {
    "_defaultOrder": 0,
    "_isFastLaunch": true,
    "category": "General purpose",
    "gpuNum": 0,
    "hideHardwareSpecs": false,
    "memoryGiB": 4,
    "name": "ml.t3.medium",
    "vcpuNum": 2
   },
   {
    "_defaultOrder": 1,
    "_isFastLaunch": false,
    "category": "General purpose",
    "gpuNum": 0,
    "hideHardwareSpecs": false,
    "memoryGiB": 8,
    "name": "ml.t3.large",
    "vcpuNum": 2
   },
   {
    "_defaultOrder": 2,
    "_isFastLaunch": false,
    "category": "General purpose",
    "gpuNum": 0,
    "hideHardwareSpecs": false,
    "memoryGiB": 16,
    "name": "ml.t3.xlarge",
    "vcpuNum": 4
   },
   {
    "_defaultOrder": 3,
    "_isFastLaunch": false,
    "category": "General purpose",
    "gpuNum": 0,
    "hideHardwareSpecs": false,
    "memoryGiB": 32,
    "name": "ml.t3.2xlarge",
    "vcpuNum": 8
   },
   {
    "_defaultOrder": 4,
    "_isFastLaunch": true,
    "category": "General purpose",
    "gpuNum": 0,
    "hideHardwareSpecs": false,
    "memoryGiB": 8,
    "name": "ml.m5.large",
    "vcpuNum": 2
   },
   {
    "_defaultOrder": 5,
    "_isFastLaunch": false,
    "category": "General purpose",
    "gpuNum": 0,
    "hideHardwareSpecs": false,
    "memoryGiB": 16,
    "name": "ml.m5.xlarge",
    "vcpuNum": 4
   },
   {
    "_defaultOrder": 6,
    "_isFastLaunch": false,
    "category": "General purpose",
    "gpuNum": 0,
    "hideHardwareSpecs": false,
    "memoryGiB": 32,
    "name": "ml.m5.2xlarge",
    "vcpuNum": 8
   },
   {
    "_defaultOrder": 7,
    "_isFastLaunch": false,
    "category": "General purpose",
    "gpuNum": 0,
    "hideHardwareSpecs": false,
    "memoryGiB": 64,
    "name": "ml.m5.4xlarge",
    "vcpuNum": 16
   },
   {
    "_defaultOrder": 8,
    "_isFastLaunch": false,
    "category": "General purpose",
    "gpuNum": 0,
    "hideHardwareSpecs": false,
    "memoryGiB": 128,
    "name": "ml.m5.8xlarge",
    "vcpuNum": 32
   },
   {
    "_defaultOrder": 9,
    "_isFastLaunch": false,
    "category": "General purpose",
    "gpuNum": 0,
    "hideHardwareSpecs": false,
    "memoryGiB": 192,
    "name": "ml.m5.12xlarge",
    "vcpuNum": 48
   },
   {
    "_defaultOrder": 10,
    "_isFastLaunch": false,
    "category": "General purpose",
    "gpuNum": 0,
    "hideHardwareSpecs": false,
    "memoryGiB": 256,
    "name": "ml.m5.16xlarge",
    "vcpuNum": 64
   },
   {
    "_defaultOrder": 11,
    "_isFastLaunch": false,
    "category": "General purpose",
    "gpuNum": 0,
    "hideHardwareSpecs": false,
    "memoryGiB": 384,
    "name": "ml.m5.24xlarge",
    "vcpuNum": 96
   },
   {
    "_defaultOrder": 12,
    "_isFastLaunch": false,
    "category": "General purpose",
    "gpuNum": 0,
    "hideHardwareSpecs": false,
    "memoryGiB": 8,
    "name": "ml.m5d.large",
    "vcpuNum": 2
   },
   {
    "_defaultOrder": 13,
    "_isFastLaunch": false,
    "category": "General purpose",
    "gpuNum": 0,
    "hideHardwareSpecs": false,
    "memoryGiB": 16,
    "name": "ml.m5d.xlarge",
    "vcpuNum": 4
   },
   {
    "_defaultOrder": 14,
    "_isFastLaunch": false,
    "category": "General purpose",
    "gpuNum": 0,
    "hideHardwareSpecs": false,
    "memoryGiB": 32,
    "name": "ml.m5d.2xlarge",
    "vcpuNum": 8
   },
   {
    "_defaultOrder": 15,
    "_isFastLaunch": false,
    "category": "General purpose",
    "gpuNum": 0,
    "hideHardwareSpecs": false,
    "memoryGiB": 64,
    "name": "ml.m5d.4xlarge",
    "vcpuNum": 16
   },
   {
    "_defaultOrder": 16,
    "_isFastLaunch": false,
    "category": "General purpose",
    "gpuNum": 0,
    "hideHardwareSpecs": false,
    "memoryGiB": 128,
    "name": "ml.m5d.8xlarge",
    "vcpuNum": 32
   },
   {
    "_defaultOrder": 17,
    "_isFastLaunch": false,
    "category": "General purpose",
    "gpuNum": 0,
    "hideHardwareSpecs": false,
    "memoryGiB": 192,
    "name": "ml.m5d.12xlarge",
    "vcpuNum": 48
   },
   {
    "_defaultOrder": 18,
    "_isFastLaunch": false,
    "category": "General purpose",
    "gpuNum": 0,
    "hideHardwareSpecs": false,
    "memoryGiB": 256,
    "name": "ml.m5d.16xlarge",
    "vcpuNum": 64
   },
   {
    "_defaultOrder": 19,
    "_isFastLaunch": false,
    "category": "General purpose",
    "gpuNum": 0,
    "hideHardwareSpecs": false,
    "memoryGiB": 384,
    "name": "ml.m5d.24xlarge",
    "vcpuNum": 96
   },
   {
    "_defaultOrder": 20,
    "_isFastLaunch": false,
    "category": "General purpose",
    "gpuNum": 0,
    "hideHardwareSpecs": true,
    "memoryGiB": 0,
    "name": "ml.geospatial.interactive",
    "supportedImageNames": [
     "sagemaker-geospatial-v1-0"
    ],
    "vcpuNum": 0
   },
   {
    "_defaultOrder": 21,
    "_isFastLaunch": true,
    "category": "Compute optimized",
    "gpuNum": 0,
    "hideHardwareSpecs": false,
    "memoryGiB": 4,
    "name": "ml.c5.large",
    "vcpuNum": 2
   },
   {
    "_defaultOrder": 22,
    "_isFastLaunch": false,
    "category": "Compute optimized",
    "gpuNum": 0,
    "hideHardwareSpecs": false,
    "memoryGiB": 8,
    "name": "ml.c5.xlarge",
    "vcpuNum": 4
   },
   {
    "_defaultOrder": 23,
    "_isFastLaunch": false,
    "category": "Compute optimized",
    "gpuNum": 0,
    "hideHardwareSpecs": false,
    "memoryGiB": 16,
    "name": "ml.c5.2xlarge",
    "vcpuNum": 8
   },
   {
    "_defaultOrder": 24,
    "_isFastLaunch": false,
    "category": "Compute optimized",
    "gpuNum": 0,
    "hideHardwareSpecs": false,
    "memoryGiB": 32,
    "name": "ml.c5.4xlarge",
    "vcpuNum": 16
   },
   {
    "_defaultOrder": 25,
    "_isFastLaunch": false,
    "category": "Compute optimized",
    "gpuNum": 0,
    "hideHardwareSpecs": false,
    "memoryGiB": 72,
    "name": "ml.c5.9xlarge",
    "vcpuNum": 36
   },
   {
    "_defaultOrder": 26,
    "_isFastLaunch": false,
    "category": "Compute optimized",
    "gpuNum": 0,
    "hideHardwareSpecs": false,
    "memoryGiB": 96,
    "name": "ml.c5.12xlarge",
    "vcpuNum": 48
   },
   {
    "_defaultOrder": 27,
    "_isFastLaunch": false,
    "category": "Compute optimized",
    "gpuNum": 0,
    "hideHardwareSpecs": false,
    "memoryGiB": 144,
    "name": "ml.c5.18xlarge",
    "vcpuNum": 72
   },
   {
    "_defaultOrder": 28,
    "_isFastLaunch": false,
    "category": "Compute optimized",
    "gpuNum": 0,
    "hideHardwareSpecs": false,
    "memoryGiB": 192,
    "name": "ml.c5.24xlarge",
    "vcpuNum": 96
   },
   {
    "_defaultOrder": 29,
    "_isFastLaunch": true,
    "category": "Accelerated computing",
    "gpuNum": 1,
    "hideHardwareSpecs": false,
    "memoryGiB": 16,
    "name": "ml.g4dn.xlarge",
    "vcpuNum": 4
   },
   {
    "_defaultOrder": 30,
    "_isFastLaunch": false,
    "category": "Accelerated computing",
    "gpuNum": 1,
    "hideHardwareSpecs": false,
    "memoryGiB": 32,
    "name": "ml.g4dn.2xlarge",
    "vcpuNum": 8
   },
   {
    "_defaultOrder": 31,
    "_isFastLaunch": false,
    "category": "Accelerated computing",
    "gpuNum": 1,
    "hideHardwareSpecs": false,
    "memoryGiB": 64,
    "name": "ml.g4dn.4xlarge",
    "vcpuNum": 16
   },
   {
    "_defaultOrder": 32,
    "_isFastLaunch": false,
    "category": "Accelerated computing",
    "gpuNum": 1,
    "hideHardwareSpecs": false,
    "memoryGiB": 128,
    "name": "ml.g4dn.8xlarge",
    "vcpuNum": 32
   },
   {
    "_defaultOrder": 33,
    "_isFastLaunch": false,
    "category": "Accelerated computing",
    "gpuNum": 4,
    "hideHardwareSpecs": false,
    "memoryGiB": 192,
    "name": "ml.g4dn.12xlarge",
    "vcpuNum": 48
   },
   {
    "_defaultOrder": 34,
    "_isFastLaunch": false,
    "category": "Accelerated computing",
    "gpuNum": 1,
    "hideHardwareSpecs": false,
    "memoryGiB": 256,
    "name": "ml.g4dn.16xlarge",
    "vcpuNum": 64
   },
   {
    "_defaultOrder": 35,
    "_isFastLaunch": false,
    "category": "Accelerated computing",
    "gpuNum": 1,
    "hideHardwareSpecs": false,
    "memoryGiB": 61,
    "name": "ml.p3.2xlarge",
    "vcpuNum": 8
   },
   {
    "_defaultOrder": 36,
    "_isFastLaunch": false,
    "category": "Accelerated computing",
    "gpuNum": 4,
    "hideHardwareSpecs": false,
    "memoryGiB": 244,
    "name": "ml.p3.8xlarge",
    "vcpuNum": 32
   },
   {
    "_defaultOrder": 37,
    "_isFastLaunch": false,
    "category": "Accelerated computing",
    "gpuNum": 8,
    "hideHardwareSpecs": false,
    "memoryGiB": 488,
    "name": "ml.p3.16xlarge",
    "vcpuNum": 64
   },
   {
    "_defaultOrder": 38,
    "_isFastLaunch": false,
    "category": "Accelerated computing",
    "gpuNum": 8,
    "hideHardwareSpecs": false,
    "memoryGiB": 768,
    "name": "ml.p3dn.24xlarge",
    "vcpuNum": 96
   },
   {
    "_defaultOrder": 39,
    "_isFastLaunch": false,
    "category": "Memory Optimized",
    "gpuNum": 0,
    "hideHardwareSpecs": false,
    "memoryGiB": 16,
    "name": "ml.r5.large",
    "vcpuNum": 2
   },
   {
    "_defaultOrder": 40,
    "_isFastLaunch": false,
    "category": "Memory Optimized",
    "gpuNum": 0,
    "hideHardwareSpecs": false,
    "memoryGiB": 32,
    "name": "ml.r5.xlarge",
    "vcpuNum": 4
   },
   {
    "_defaultOrder": 41,
    "_isFastLaunch": false,
    "category": "Memory Optimized",
    "gpuNum": 0,
    "hideHardwareSpecs": false,
    "memoryGiB": 64,
    "name": "ml.r5.2xlarge",
    "vcpuNum": 8
   },
   {
    "_defaultOrder": 42,
    "_isFastLaunch": false,
    "category": "Memory Optimized",
    "gpuNum": 0,
    "hideHardwareSpecs": false,
    "memoryGiB": 128,
    "name": "ml.r5.4xlarge",
    "vcpuNum": 16
   },
   {
    "_defaultOrder": 43,
    "_isFastLaunch": false,
    "category": "Memory Optimized",
    "gpuNum": 0,
    "hideHardwareSpecs": false,
    "memoryGiB": 256,
    "name": "ml.r5.8xlarge",
    "vcpuNum": 32
   },
   {
    "_defaultOrder": 44,
    "_isFastLaunch": false,
    "category": "Memory Optimized",
    "gpuNum": 0,
    "hideHardwareSpecs": false,
    "memoryGiB": 384,
    "name": "ml.r5.12xlarge",
    "vcpuNum": 48
   },
   {
    "_defaultOrder": 45,
    "_isFastLaunch": false,
    "category": "Memory Optimized",
    "gpuNum": 0,
    "hideHardwareSpecs": false,
    "memoryGiB": 512,
    "name": "ml.r5.16xlarge",
    "vcpuNum": 64
   },
   {
    "_defaultOrder": 46,
    "_isFastLaunch": false,
    "category": "Memory Optimized",
    "gpuNum": 0,
    "hideHardwareSpecs": false,
    "memoryGiB": 768,
    "name": "ml.r5.24xlarge",
    "vcpuNum": 96
   },
   {
    "_defaultOrder": 47,
    "_isFastLaunch": false,
    "category": "Accelerated computing",
    "gpuNum": 1,
    "hideHardwareSpecs": false,
    "memoryGiB": 16,
    "name": "ml.g5.xlarge",
    "vcpuNum": 4
   },
   {
    "_defaultOrder": 48,
    "_isFastLaunch": false,
    "category": "Accelerated computing",
    "gpuNum": 1,
    "hideHardwareSpecs": false,
    "memoryGiB": 32,
    "name": "ml.g5.2xlarge",
    "vcpuNum": 8
   },
   {
    "_defaultOrder": 49,
    "_isFastLaunch": false,
    "category": "Accelerated computing",
    "gpuNum": 1,
    "hideHardwareSpecs": false,
    "memoryGiB": 64,
    "name": "ml.g5.4xlarge",
    "vcpuNum": 16
   },
   {
    "_defaultOrder": 50,
    "_isFastLaunch": false,
    "category": "Accelerated computing",
    "gpuNum": 1,
    "hideHardwareSpecs": false,
    "memoryGiB": 128,
    "name": "ml.g5.8xlarge",
    "vcpuNum": 32
   },
   {
    "_defaultOrder": 51,
    "_isFastLaunch": false,
    "category": "Accelerated computing",
    "gpuNum": 1,
    "hideHardwareSpecs": false,
    "memoryGiB": 256,
    "name": "ml.g5.16xlarge",
    "vcpuNum": 64
   },
   {
    "_defaultOrder": 52,
    "_isFastLaunch": false,
    "category": "Accelerated computing",
    "gpuNum": 4,
    "hideHardwareSpecs": false,
    "memoryGiB": 192,
    "name": "ml.g5.12xlarge",
    "vcpuNum": 48
   },
   {
    "_defaultOrder": 53,
    "_isFastLaunch": false,
    "category": "Accelerated computing",
    "gpuNum": 4,
    "hideHardwareSpecs": false,
    "memoryGiB": 384,
    "name": "ml.g5.24xlarge",
    "vcpuNum": 96
   },
   {
    "_defaultOrder": 54,
    "_isFastLaunch": false,
    "category": "Accelerated computing",
    "gpuNum": 8,
    "hideHardwareSpecs": false,
    "memoryGiB": 768,
    "name": "ml.g5.48xlarge",
    "vcpuNum": 192
   },
   {
    "_defaultOrder": 55,
    "_isFastLaunch": false,
    "category": "Accelerated computing",
    "gpuNum": 8,
    "hideHardwareSpecs": false,
    "memoryGiB": 1152,
    "name": "ml.p4d.24xlarge",
    "vcpuNum": 96
   },
   {
    "_defaultOrder": 56,
    "_isFastLaunch": false,
    "category": "Accelerated computing",
    "gpuNum": 8,
    "hideHardwareSpecs": false,
    "memoryGiB": 1152,
    "name": "ml.p4de.24xlarge",
    "vcpuNum": 96
   },
   {
    "_defaultOrder": 57,
    "_isFastLaunch": false,
    "category": "Accelerated computing",
    "gpuNum": 0,
    "hideHardwareSpecs": false,
    "memoryGiB": 32,
    "name": "ml.trn1.2xlarge",
    "vcpuNum": 8
   },
   {
    "_defaultOrder": 58,
    "_isFastLaunch": false,
    "category": "Accelerated computing",
    "gpuNum": 0,
    "hideHardwareSpecs": false,
    "memoryGiB": 512,
    "name": "ml.trn1.32xlarge",
    "vcpuNum": 128
   },
   {
    "_defaultOrder": 59,
    "_isFastLaunch": false,
    "category": "Accelerated computing",
    "gpuNum": 0,
    "hideHardwareSpecs": false,
    "memoryGiB": 512,
    "name": "ml.trn1n.32xlarge",
    "vcpuNum": 128
   }
  ],
  "celltoolbar": "Tags",
  "instance_type": "ml.t3.medium",
  "kernelspec": {
   "display_name": "Python 3 (Data Science 3.0)",
   "language": "python",
   "name": "python3__SAGEMAKER_INTERNAL__arn:aws:sagemaker:us-east-1:081325390199:image/sagemaker-data-science-310-v1"
  },
  "language_info": {
   "codemirror_mode": {
    "name": "ipython",
    "version": 3
   },
   "file_extension": ".py",
   "mimetype": "text/x-python",
   "name": "python",
   "nbconvert_exporter": "python",
   "pygments_lexer": "ipython3",
   "version": "3.10.6"
  },
  "notice": "Copyright 2017 Amazon.com, Inc. or its affiliates. All Rights Reserved.  Licensed under the Apache License, Version 2.0 (the \"License\"). You may not use this file except in compliance with the License. A copy of the License is located at http://aws.amazon.com/apache2.0/ or in the \"license\" file accompanying this file. This file is distributed on an \"AS IS\" BASIS, WITHOUT WARRANTIES OR CONDITIONS OF ANY KIND, either express or implied. See the License for the specific language governing permissions and limitations under the License.",
  "papermill": {
   "default_parameters": {},
   "duration": 311.728138,
   "end_time": "2021-06-07T00:14:55.273560",
   "environment_variables": {},
   "exception": true,
   "input_path": "xgboost_customer_churn.ipynb",
   "output_path": "/opt/ml/processing/output/xgboost_customer_churn-2021-06-07-00-06-03.ipynb",
   "parameters": {
    "kms_key": "arn:aws:kms:us-west-2:521695447989:key/6e9984db-50cf-4c7e-926c-877ec47a8b25"
   },
   "start_time": "2021-06-07T00:09:43.545422",
   "version": "2.3.3"
  }
 },
 "nbformat": 4,
 "nbformat_minor": 5
}
